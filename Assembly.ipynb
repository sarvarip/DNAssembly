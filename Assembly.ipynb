{
 "cells": [
  {
   "cell_type": "code",
   "execution_count": 1,
   "metadata": {},
   "outputs": [],
   "source": [
    "#Genome Assemby- using synthetic reads from a 15894 long virus genome\n",
    "#Based on Algorithms for DNA Sequencing course on Coursera\n",
    "#Peter Sarvari"
   ]
  },
  {
   "cell_type": "code",
   "execution_count": 2,
   "metadata": {},
   "outputs": [],
   "source": [
    "def readFastq(filename):\n",
    "    sequences = []\n",
    "    qualities = []\n",
    "    with open(filename) as fh:\n",
    "        while True:\n",
    "            fh.readline()  # skip name line\n",
    "            seq = fh.readline().rstrip()  # read base sequence\n",
    "            fh.readline()  # skip placeholder line\n",
    "            qual = fh.readline().rstrip() # base quality line\n",
    "            if len(seq) == 0:\n",
    "                break\n",
    "            sequences.append(seq)\n",
    "            qualities.append(qual)\n",
    "    return sequences, qualities"
   ]
  },
  {
   "cell_type": "code",
   "execution_count": 3,
   "metadata": {},
   "outputs": [],
   "source": [
    "def make_dict(reads,k): \n",
    "    \"\"\" make a dictionary of all k-mers as keys and \n",
    "    reads that have those k-mers as values \"\"\"\n",
    "    suffixes = {}\n",
    "    for read in reads:\n",
    "        for i in range(0,len(read)-k+1):\n",
    "            kmer = read[i:i+k]\n",
    "            if kmer not in suffixes:\n",
    "                suffixes[kmer] = [read]\n",
    "            else:\n",
    "                suffixes[kmer].append(read)\n",
    "    return suffixes"
   ]
  },
  {
   "cell_type": "code",
   "execution_count": 4,
   "metadata": {},
   "outputs": [],
   "source": [
    "def overlap(a, b, min_length=3):\n",
    "    \"\"\" Return length of longest suffix of 'a' matching\n",
    "        a prefix of 'b' that is at least 'min_length'\n",
    "        characters long.  If no such overlap exists,\n",
    "        return 0. \"\"\"\n",
    "    start = 0  # start all the way at the left\n",
    "    while True:\n",
    "        start = a.find(b[:min_length], start)  # look for b's suffx in a\n",
    "        if start == -1:  # no more occurrences to right\n",
    "            return 0\n",
    "        # found occurrence; check for full suffix/prefix match\n",
    "        if b.startswith(a[start:]):\n",
    "            return len(a)-start\n",
    "        start += 1  # move just past previous match"
   ]
  },
  {
   "cell_type": "code",
   "execution_count": 5,
   "metadata": {},
   "outputs": [],
   "source": [
    "def num_edges_with_length(a,suffixes,k):\n",
    "    \"\"\" Given the suffix of 'a' what prefixes of other \n",
    "    reads have at least k overlap with it: in other words\n",
    "    finding the out edges from a in the overlap graph \"\"\"\n",
    "    suffix = a[-k:]\n",
    "    arr = suffixes[suffix] \n",
    "    pairs = []\n",
    "    for element in arr:\n",
    "        length = overlap(a,element,k)\n",
    "        if length>=k: #if not zero is returned, then it should be at least k\n",
    "            if not element == a:\n",
    "                pairs.append((a,element,length))\n",
    "    return pairs"
   ]
  },
  {
   "cell_type": "code",
   "execution_count": 6,
   "metadata": {},
   "outputs": [],
   "source": [
    "def all_overlap_pairs_with_length(reads,suffixes,k):\n",
    "    \"\"\" Finding the out edges for all reads in the overlap graph \"\"\"\n",
    "    all_pairs = []\n",
    "    for read in reads:\n",
    "        pairs = num_edges_with_length(read,suffixes,k)\n",
    "        all_pairs = all_pairs + pairs\n",
    "    return all_pairs"
   ]
  },
  {
   "cell_type": "code",
   "execution_count": 7,
   "metadata": {},
   "outputs": [],
   "source": [
    "def pick_maximal_overlap_fast(all_pairs):\n",
    "    \"\"\" Pick the edge that has the biggest value \n",
    "    (maximal overlap) in the overla graph \"\"\"\n",
    "    reada, readb = None, None\n",
    "    best_olen = 0\n",
    "    for pairs in all_pairs:\n",
    "        if pairs[2] > best_olen:\n",
    "            reada, readb = pairs[0], pairs[1]\n",
    "            best_olen = pairs[2]\n",
    "    return reada, readb, best_olen"
   ]
  },
  {
   "cell_type": "code",
   "execution_count": 17,
   "metadata": {},
   "outputs": [],
   "source": [
    "def greedy_scs_fast(all_pairs,suffixes,reads,k):\n",
    "    \"\"\" Greedy approach for assembly: merging the \n",
    "    nodes that have the biggest overlap between them \"\"\"\n",
    "    reada, readb, best_olen = pick_maximal_overlap_fast(all_pairs)\n",
    "    #iter = 0\n",
    "    while best_olen > 0:\n",
    "        reads.remove(reada)\n",
    "        reads.remove(readb)        \n",
    "        reads.append(reada + readb[best_olen:])\n",
    "        suffixes = make_dict(reads,k)\n",
    "        all_pairs = all_overlap_pairs_with_length(reads,suffixes,k)\n",
    "        reada, readb, best_olen = pick_maximal_overlap_fast(all_pairs) \n",
    "    return '.'.join(reads)"
   ]
  },
  {
   "cell_type": "code",
   "execution_count": 9,
   "metadata": {},
   "outputs": [],
   "source": [
    "reads, _ = readFastq('ads1_week4_reads.fq')"
   ]
  },
  {
   "cell_type": "code",
   "execution_count": 18,
   "metadata": {},
   "outputs": [],
   "source": [
    "suffixes = make_dict(reads,30)\n",
    "all_pairs = all_overlap_pairs_with_length(reads, suffixes,30)\n",
    "assembled_genome = greedy_scs_fast(all_pairs,suffixes,reads,30)"
   ]
  },
  {
   "cell_type": "code",
   "execution_count": 19,
   "metadata": {},
   "outputs": [
    {
     "data": {
      "text/plain": [
       "15894"
      ]
     },
     "execution_count": 19,
     "metadata": {},
     "output_type": "execute_result"
    }
   ],
   "source": [
    "len(assembled_genome) #we got lucky and the greedy approach worked here! "
   ]
  },
  {
   "cell_type": "code",
   "execution_count": null,
   "metadata": {},
   "outputs": [],
   "source": []
  }
 ],
 "metadata": {
  "kernelspec": {
   "display_name": "Python 3",
   "language": "python",
   "name": "python3"
  },
  "language_info": {
   "codemirror_mode": {
    "name": "ipython",
    "version": 3
   },
   "file_extension": ".py",
   "mimetype": "text/x-python",
   "name": "python",
   "nbconvert_exporter": "python",
   "pygments_lexer": "ipython3",
   "version": "3.7.0"
  }
 },
 "nbformat": 4,
 "nbformat_minor": 2
}
